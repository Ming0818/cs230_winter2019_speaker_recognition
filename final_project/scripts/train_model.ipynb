{
 "cells": [
  {
   "cell_type": "markdown",
   "metadata": {},
   "source": [
    "Train text independent speaker recognition convolutional neural network.\n",
    "\n",
    "Save model and parameters."
   ]
  },
  {
   "cell_type": "code",
   "execution_count": 1,
   "metadata": {},
   "outputs": [
    {
     "name": "stderr",
     "output_type": "stream",
     "text": [
      "Using TensorFlow backend.\n"
     ]
    }
   ],
   "source": [
    "import os\n",
    "\n",
    "import keras\n",
    "from keras.utils import to_categorical\n",
    "\n",
    "import numpy as np\n",
    "import pickle\n",
    "\n",
    "# Local\n",
    "from model_builder import ModelBuilder\n",
    "from reports import plot_history\n",
    "from train_funcs import data_to_keras, get_architecture, data_reshape, fit_model\n",
    "\n",
    "# Import constants\n",
    "from config import activation, optimizer, dropout_rate, epochs, batch_size\n",
    "\n",
    "# Paths\n",
    "from config import data_filename, model_dir, data_filename, data_dir, reports_dir"
   ]
  },
  {
   "cell_type": "code",
   "execution_count": 2,
   "metadata": {},
   "outputs": [],
   "source": [
    "%load_ext autoreload\n",
    "%autoreload"
   ]
  },
  {
   "cell_type": "markdown",
   "metadata": {},
   "source": [
    "### main():"
   ]
  },
  {
   "cell_type": "raw",
   "metadata": {},
   "source": [
    "# Parse arguments from command line.\n",
    "# args = get_script_arguments()"
   ]
  },
  {
   "cell_type": "code",
   "execution_count": 3,
   "metadata": {},
   "outputs": [],
   "source": [
    "# Verify data file exist.\n",
    "assert os.path.exists(data_filename), 'Data does not exist.'"
   ]
  },
  {
   "cell_type": "code",
   "execution_count": 4,
   "metadata": {},
   "outputs": [
    {
     "name": "stdout",
     "output_type": "stream",
     "text": [
      "Loading the inputs in memory. It might take a while...\n"
     ]
    }
   ],
   "source": [
    "# Load input data.\n",
    "print('Loading the inputs in memory. It might take a while...')\n",
    "data = pickle.load(open(data_filename, 'rb'))"
   ]
  },
  {
   "cell_type": "code",
   "execution_count": 5,
   "metadata": {},
   "outputs": [],
   "source": [
    "# Get train and test data.\n",
    "kx_train, ky_train, kx_test, ky_test, categorical_speakers = data_to_keras(data)"
   ]
  },
  {
   "cell_type": "code",
   "execution_count": 6,
   "metadata": {},
   "outputs": [],
   "source": [
    "# Reshape data.\n",
    "# Convolutional models require data reshaping\n",
    "\n",
    "#if args.cnn_1 or args.cnn_2\n",
    "\n",
    "if True or False:\n",
    "    kx_train, ky_train, kx_test, ky_test = data_reshape(kx_train, ky_train, kx_test, ky_test)"
   ]
  },
  {
   "cell_type": "code",
   "execution_count": 7,
   "metadata": {},
   "outputs": [
    {
     "name": "stdout",
     "output_type": "stream",
     "text": [
      "Shape kx_train:  (1786279, 390, 1)\n",
      "Shape ky_train:  (1786279, 105)\n",
      "Shape kx_test:  (1493497, 390, 1)\n",
      "Shape ky_test:  (1493497, 105)\n"
     ]
    }
   ],
   "source": [
    "# PRint shapes\n",
    "print('Shape kx_train: ', kx_train.shape)\n",
    "print('Shape ky_train: ', ky_train.shape)\n",
    "print('Shape kx_test: ', kx_test.shape)\n",
    "print('Shape ky_test: ', ky_test.shape)"
   ]
  },
  {
   "cell_type": "code",
   "execution_count": 8,
   "metadata": {},
   "outputs": [],
   "source": [
    "############################\n",
    "#           MODEL          #\n",
    "############################"
   ]
  },
  {
   "cell_type": "code",
   "execution_count": 9,
   "metadata": {},
   "outputs": [
    {
     "data": {
      "text/plain": [
       "(1786279, 390, 1)"
      ]
     },
     "execution_count": 9,
     "metadata": {},
     "output_type": "execute_result"
    }
   ],
   "source": [
    "kx_train.shape"
   ]
  },
  {
   "cell_type": "code",
   "execution_count": 10,
   "metadata": {},
   "outputs": [
    {
     "data": {
      "text/plain": [
       "105"
      ]
     },
     "execution_count": 10,
     "metadata": {},
     "output_type": "execute_result"
    }
   ],
   "source": [
    "ky_train.shape[1]"
   ]
  },
  {
   "cell_type": "code",
   "execution_count": 11,
   "metadata": {},
   "outputs": [],
   "source": [
    "# Instantiate ModelBuilder(input_shape, num_categories)\n",
    "builder = ModelBuilder(kx_train.shape, ky_train.shape[1])"
   ]
  },
  {
   "cell_type": "code",
   "execution_count": 12,
   "metadata": {},
   "outputs": [
    {
     "name": "stdout",
     "output_type": "stream",
     "text": [
      "105\n",
      "relu\n",
      "adam\n",
      "0.25\n",
      "baseline\n",
      "512\n"
     ]
    }
   ],
   "source": [
    "# Model attributes\n",
    "print(builder.num_categories)\n",
    "print(builder.activation)\n",
    "print(builder.optimizer)\n",
    "print(builder.dropout_rate)\n",
    "print(builder.architecture)\n",
    "print(builder.batch_size)"
   ]
  },
  {
   "cell_type": "code",
   "execution_count": 13,
   "metadata": {},
   "outputs": [
    {
     "name": "stdout",
     "output_type": "stream",
     "text": [
      "WARNING:tensorflow:From /Users/j/deep-speaker-data/venv-speaker/lib/python3.7/site-packages/tensorflow/python/framework/op_def_library.py:263: colocate_with (from tensorflow.python.framework.ops) is deprecated and will be removed in a future version.\n",
      "Instructions for updating:\n",
      "Colocations handled automatically by placer.\n"
     ]
    }
   ],
   "source": [
    "# Create model object.\n",
    "model = builder(activation=activation, \n",
    "                optimizer=optimizer, \n",
    "                dropout_rate=dropout_rate, \n",
    "                architecture=get_architecture(True, False), \n",
    "                batch_size=batch_size)"
   ]
  },
  {
   "cell_type": "code",
   "execution_count": 14,
   "metadata": {},
   "outputs": [
    {
     "name": "stdout",
     "output_type": "stream",
     "text": [
      "105\n",
      "relu\n",
      "adam\n",
      "0.25\n",
      "cnn_1\n",
      "512\n"
     ]
    }
   ],
   "source": [
    "# Model attributes\n",
    "print(builder.num_categories)\n",
    "print(builder.activation)\n",
    "print(builder.optimizer)\n",
    "print(builder.dropout_rate)\n",
    "print(builder.architecture)\n",
    "print(builder.batch_size)"
   ]
  },
  {
   "cell_type": "code",
   "execution_count": 15,
   "metadata": {},
   "outputs": [
    {
     "name": "stdout",
     "output_type": "stream",
     "text": [
      "_________________________________________________________________\n",
      "Layer (type)                 Output Shape              Param #   \n",
      "=================================================================\n",
      "input_1 (InputLayer)         (512, 390, 1)             0         \n",
      "_________________________________________________________________\n",
      "conv1d_1 (Conv1D)            (512, 390, 16)            64        \n",
      "_________________________________________________________________\n",
      "max_pooling1d_1 (MaxPooling1 (512, 195, 16)            0         \n",
      "_________________________________________________________________\n",
      "batch_normalization_1 (Batch (512, 195, 16)            64        \n",
      "_________________________________________________________________\n",
      "conv1d_2 (Conv1D)            (512, 195, 32)            1568      \n",
      "_________________________________________________________________\n",
      "max_pooling1d_2 (MaxPooling1 (512, 97, 32)             0         \n",
      "_________________________________________________________________\n",
      "batch_normalization_2 (Batch (512, 97, 32)             128       \n",
      "_________________________________________________________________\n",
      "conv1d_3 (Conv1D)            (512, 97, 64)             6208      \n",
      "_________________________________________________________________\n",
      "max_pooling1d_3 (MaxPooling1 (512, 48, 64)             0         \n",
      "_________________________________________________________________\n",
      "batch_normalization_3 (Batch (512, 48, 64)             256       \n",
      "_________________________________________________________________\n",
      "flatten_1 (Flatten)          (512, 3072)               0         \n",
      "_________________________________________________________________\n",
      "dropout_1 (Dropout)          (512, 3072)               0         \n",
      "_________________________________________________________________\n",
      "dense_1 (Dense)              (512, 210)                645330    \n",
      "_________________________________________________________________\n",
      "batch_normalization_4 (Batch (512, 210)                840       \n",
      "_________________________________________________________________\n",
      "dropout_2 (Dropout)          (512, 210)                0         \n",
      "_________________________________________________________________\n",
      "softmax (Dense)              (512, 105)                22155     \n",
      "=================================================================\n",
      "Total params: 676,613\n",
      "Trainable params: 675,969\n",
      "Non-trainable params: 644\n",
      "_________________________________________________________________\n"
     ]
    }
   ],
   "source": [
    "model.summary()"
   ]
  },
  {
   "cell_type": "code",
   "execution_count": null,
   "metadata": {},
   "outputs": [],
   "source": []
  },
  {
   "cell_type": "code",
   "execution_count": 225,
   "metadata": {},
   "outputs": [
    {
     "name": "stdout",
     "output_type": "stream",
     "text": [
      "Train on 1785600 samples, validate on 1493100 samples\n",
      "Epoch 1/2\n",
      "1785600/1785600 [==============================] - 1062s 595us/step - loss: 1.2088 - acc: 0.6626 - val_loss: 0.9525 - val_acc: 0.7182\n"
     ]
    },
    {
     "name": "stderr",
     "output_type": "stream",
     "text": [
      "/Users/j/deep-speaker-data/venv-speaker/lib/python3.7/site-packages/keras/callbacks.py:569: RuntimeWarning: Early stopping conditioned on metric `val_softmax_acc` which is not available. Available metrics are: val_loss,val_acc,loss,acc\n",
      "  (self.monitor, ','.join(list(logs.keys()))), RuntimeWarning\n",
      "/Users/j/deep-speaker-data/venv-speaker/lib/python3.7/site-packages/keras/callbacks.py:1109: RuntimeWarning: Reduce LR on plateau conditioned on metric `val_softmax_acc` which is not available. Available metrics are: val_loss,val_acc,loss,acc,lr\n",
      "  (self.monitor, ','.join(list(logs.keys()))), RuntimeWarning\n"
     ]
    },
    {
     "name": "stdout",
     "output_type": "stream",
     "text": [
      "Epoch 2/2\n",
      "1785600/1785600 [==============================] - 1064s 596us/step - loss: 0.7640 - acc: 0.7769 - val_loss: 2.3585 - val_acc: 0.4628\n"
     ]
    }
   ],
   "source": [
    "# Train\n",
    "model, history = fit_model(model, kx_train, ky_train, kx_test, ky_test, max_epochs=2)"
   ]
  },
  {
   "cell_type": "code",
   "execution_count": 190,
   "metadata": {},
   "outputs": [
    {
     "data": {
      "image/png": "[encoded data removed]",
      "text/plain": [
       "<Figure size 432x288 with 1 Axes>"
      ]
     },
     "metadata": {
      "needs_background": "light"
     },
     "output_type": "display_data"
    },
    {
     "data": {
      "image/png": "[encoded data removed]",
      "text/plain": [
       "<Figure size 432x288 with 1 Axes>"
      ]
     },
     "metadata": {
      "needs_background": "light"
     },
     "output_type": "display_data"
    }
   ],
   "source": [
    "plot_history(history)"
   ]
  },
  {
   "cell_type": "code",
   "execution_count": 23,
   "metadata": {},
   "outputs": [],
   "source": [
    "from keras.utils import plot_model\n",
    "t = plot_model(model,\n",
    "              to_file=reports_dir + '/vis_model.png')"
   ]
  },
  {
   "cell_type": "code",
   "execution_count": 191,
   "metadata": {},
   "outputs": [
    {
     "name": "stdout",
     "output_type": "stream",
     "text": [
      "Saved model to disk\n"
     ]
    }
   ],
   "source": [
    "# Save the trained model and its parameters\n",
    "builder.save(model)"
   ]
  },
  {
   "cell_type": "code",
   "execution_count": 203,
   "metadata": {},
   "outputs": [
    {
     "name": "stdout",
     "output_type": "stream",
     "text": [
      "1786279.0\n",
      "[1.15105199 1.09910042 0.97146079 1.13151417 0.9382073  1.16762275\n",
      " 0.66115092 0.82400342 1.04009508 0.89980345 0.78946234 0.93994275\n",
      " 1.23032292 0.84510874 0.96535871 0.94464527 1.18615289 0.88944672\n",
      " 1.18111448 1.23412972 0.85848851 1.23883223 1.06562301 0.76354254\n",
      " 0.98484055 0.94587688 0.92807451 0.96614247 1.13638463 1.10307516\n",
      " 0.72726601 0.920181   0.99833229 0.87936991 0.9546661  1.17512438\n",
      " 0.99497335 0.89907568 1.40386804 0.92897022 0.87063667 1.04490956\n",
      " 0.93904704 1.04300616 1.14383028 0.93389666 0.86061584 1.11449555\n",
      " 0.95897673 1.00583392 1.02050128 0.82926575 0.82674655 1.14489394\n",
      " 0.96267156 1.05409065 0.79310119 0.83749515 0.89095824 0.93412059\n",
      " 0.85025911 1.01697439 0.74546026 0.99732461 0.82394743 0.89325352\n",
      " 0.9173259  0.97980215 0.87847419 1.07536393 1.11387975 0.78520769\n",
      " 1.08801593 0.78386411 0.97157275 1.44747825 0.99279004 0.93876712\n",
      " 0.93546417 0.7586161  0.77591462 0.80032291 0.97224454 1.03891945\n",
      " 0.80205836 0.9059615  0.80569721 1.17450857 0.87108453 1.05935299\n",
      " 1.1317381  0.83833488 0.80569721 1.17288509 0.75217813 0.72082805\n",
      " 0.58484705 1.06797426 0.91822162 0.73857443 1.0318097  0.77138006\n",
      " 0.66680513 0.6684846  0.75884002]\n"
     ]
    }
   ],
   "source": [
    "acum = [0., 0., 0., 0., 0., 0., 0., 0., 0., 0., 0., 0., 0., 0., 0., 0., 0.,\n",
    "       0., 0., 0., 0., 0., 0., 0., 0., 0., 0., 0., 0., 0., 0., 0., 0., 0.,\n",
    "       0., 0., 0., 0., 0., 0., 0., 0., 0., 0., 0., 0., 0., 0., 0., 0., 0.,\n",
    "       0., 0., 0., 0., 0., 0., 0., 0., 0., 0., 0., 0., 0., 0., 0., 0., 0.,\n",
    "       0., 0., 0., 0., 0., 0., 0., 0., 0., 0., 0., 0., 0., 0., 0., 0., 0.,\n",
    "       0., 0., 0., 0., 0., 0., 0., 0., 0., 0., 0., 0., 0., 0., 0., 0., 0.,\n",
    "       0., 0., 0.]\n",
    "\n",
    "acum = np.array(acum)\n",
    "\n",
    "for i in ky_train:\n",
    "    acum = np.add(acum,i)\n",
    "    \n",
    "c = np.sum(acum)\n",
    "\n",
    "print(c)\n",
    "print(acum / c * 100)"
   ]
  },
  {
   "cell_type": "code",
   "execution_count": 205,
   "metadata": {},
   "outputs": [
    {
     "data": {
      "text/plain": [
       "array([20561., 19633., 17353., 20212., 16759., 20857., 11810., 14719.,\n",
       "       18579., 16073., 14102., 16790., 21977., 15096., 17244., 16874.,\n",
       "       21188., 15888., 21098., 22045., 15335., 22129., 19035., 13639.,\n",
       "       17592., 16896., 16578., 17258., 20299., 19704., 12991., 16437.,\n",
       "       17833., 15708., 17053., 20991., 17773., 16060., 25077., 16594.,\n",
       "       15552., 18665., 16774., 18631., 20432., 16682., 15373., 19908.,\n",
       "       17130., 17967., 18229., 14813., 14768., 20451., 17196., 18829.,\n",
       "       14167., 14960., 15915., 16686., 15188., 18166., 13316., 17815.,\n",
       "       14718., 15956., 16386., 17502., 15692., 19209., 19897., 14026.,\n",
       "       19435., 14002., 17355., 25856., 17734., 16769., 16710., 13551.,\n",
       "       13860., 14296., 17367., 18558., 14327., 16183., 14392., 20980.,\n",
       "       15560., 18923., 20216., 14975., 14392., 20951., 13436., 12876.,\n",
       "       10447., 19077., 16402., 13193., 18431., 13779., 11911., 11941.,\n",
       "       13555.])"
      ]
     },
     "execution_count": 205,
     "metadata": {},
     "output_type": "execute_result"
    }
   ],
   "source": [
    "acum"
   ]
  },
  {
   "cell_type": "code",
   "execution_count": null,
   "metadata": {},
   "outputs": [],
   "source": []
  },
  {
   "cell_type": "code",
   "execution_count": 204,
   "metadata": {},
   "outputs": [
    {
     "name": "stdout",
     "output_type": "stream",
     "text": [
      "1493497.0\n",
      "[1.04673796 1.01178643 0.82765483 0.91248928 0.80616165 1.2413818\n",
      " 0.69414267 0.81446431 1.06742765 0.96384526 0.77221447 0.92320239\n",
      " 1.32447538 0.88671085 1.02022301 0.85262977 1.16351087 0.95741739\n",
      " 1.17355442 1.01078208 0.97502707 1.1410803  1.21767904 0.88443432\n",
      " 0.94208425 0.77931191 0.95627912 0.83722967 1.0519606  1.07874338\n",
      " 0.74857867 0.87867602 1.03602485 0.80676426 1.01526819 1.09421043\n",
      " 0.9435573  0.98908803 1.35152598 0.80883992 0.83194007 1.22772259\n",
      " 0.83816707 1.05617889 1.15279776 1.13297851 0.87767167 1.3068657\n",
      " 0.96217133 1.17723705 1.05450496 0.85899068 0.8177452  1.33043454\n",
      " 1.07331987 1.14442814 0.87137771 0.90164225 1.00529161 0.97576359\n",
      " 0.8572498  1.0133934  0.83153833 0.96759485 0.80709904 0.82926179\n",
      " 0.9334468  1.02698566 0.91329276 1.12668455 1.12896109 0.77174578\n",
      " 1.21232249 0.7426195  0.88316214 1.34509812 1.0900591  0.99169935\n",
      " 0.95621217 0.76592052 0.72507678 0.76451442 1.01058121 0.86053069\n",
      " 0.74020905 0.83548879 0.82430698 1.23816787 0.82906092 1.08255992\n",
      " 1.17208136 0.93063461 0.81372778 1.25309927 0.69742356 0.65999463\n",
      " 0.62357005 1.01801343 0.90264661 0.68329565 0.98674453 0.68758089\n",
      " 0.58761417 0.56317488 0.71114974]\n"
     ]
    }
   ],
   "source": [
    "acum_test = [0., 0., 0., 0., 0., 0., 0., 0., 0., 0., 0., 0., 0., 0., 0., 0., 0.,\n",
    "       0., 0., 0., 0., 0., 0., 0., 0., 0., 0., 0., 0., 0., 0., 0., 0., 0.,\n",
    "       0., 0., 0., 0., 0., 0., 0., 0., 0., 0., 0., 0., 0., 0., 0., 0., 0.,\n",
    "       0., 0., 0., 0., 0., 0., 0., 0., 0., 0., 0., 0., 0., 0., 0., 0., 0.,\n",
    "       0., 0., 0., 0., 0., 0., 0., 0., 0., 0., 0., 0., 0., 0., 0., 0., 0.,\n",
    "       0., 0., 0., 0., 0., 0., 0., 0., 0., 0., 0., 0., 0., 0., 0., 0., 0.,\n",
    "       0., 0., 0.]\n",
    "\n",
    "acum_test = np.array(acum_test)\n",
    "\n",
    "for i in ky_test:\n",
    "    acum_test = np.add(acum_test,i)\n",
    "\n",
    "\n",
    "c = np.sum(acum_test)\n",
    "\n",
    "print(c)\n",
    "print(acum_test / c * 100)"
   ]
  },
  {
   "cell_type": "code",
   "execution_count": 206,
   "metadata": {},
   "outputs": [
    {
     "data": {
      "text/plain": [
       "array([15633., 15111., 12361., 13628., 12040., 18540., 10367., 12164.,\n",
       "       15942., 14395., 11533., 13788., 19781., 13243., 15237., 12734.,\n",
       "       17377., 14299., 17527., 15096., 14562., 17042., 18186., 13209.,\n",
       "       14070., 11639., 14282., 12504., 15711., 16111., 11180., 13123.,\n",
       "       15473., 12049., 15163., 16342., 14092., 14772., 20185., 12080.,\n",
       "       12425., 18336., 12518., 15774., 17217., 16921., 13108., 19518.,\n",
       "       14370., 17582., 15749., 12829., 12213., 19870., 16030., 17092.,\n",
       "       13014., 13466., 15014., 14573., 12803., 15135., 12419., 14451.,\n",
       "       12054., 12385., 13941., 15338., 13640., 16827., 16861., 11526.,\n",
       "       18106., 11091., 13190., 20089., 16280., 14811., 14281., 11439.,\n",
       "       10829., 11418., 15093., 12852., 11055., 12478., 12311., 18492.,\n",
       "       12382., 16168., 17505., 13899., 12153., 18715., 10416.,  9857.,\n",
       "        9313., 15204., 13481., 10205., 14737., 10269.,  8776.,  8411.,\n",
       "       10621.])"
      ]
     },
     "execution_count": 206,
     "metadata": {},
     "output_type": "execute_result"
    }
   ],
   "source": [
    "acum_test"
   ]
  },
  {
   "cell_type": "code",
   "execution_count": 122,
   "metadata": {},
   "outputs": [
    {
     "ename": "TypeError",
     "evalue": "only integer scalar arrays can be converted to a scalar index",
     "output_type": "error",
     "traceback": [
      "\u001b[0;31m---------------------------------------------------------------------------\u001b[0m",
      "\u001b[0;31mTypeError\u001b[0m                                 Traceback (most recent call last)",
      "\u001b[0;32m<ipython-input-122-489a2b36729e>\u001b[0m in \u001b[0;36m<module>\u001b[0;34m\u001b[0m\n\u001b[0;32m----> 1\u001b[0;31m \u001b[0mnp\u001b[0m\u001b[0;34m.\u001b[0m\u001b[0msum\u001b[0m\u001b[0;34m(\u001b[0m\u001b[0ma\u001b[0m\u001b[0;34m,\u001b[0m\u001b[0macum\u001b[0m\u001b[0;34m)\u001b[0m\u001b[0;34m\u001b[0m\u001b[0;34m\u001b[0m\u001b[0m\n\u001b[0m",
      "\u001b[0;32m~/deep-speaker-data/venv-speaker/lib/python3.7/site-packages/numpy/core/fromnumeric.py\u001b[0m in \u001b[0;36msum\u001b[0;34m(a, axis, dtype, out, keepdims, initial)\u001b[0m\n\u001b[1;32m   2074\u001b[0m \u001b[0;34m\u001b[0m\u001b[0m\n\u001b[1;32m   2075\u001b[0m     return _wrapreduction(a, np.add, 'sum', axis, dtype, out, keepdims=keepdims,\n\u001b[0;32m-> 2076\u001b[0;31m                           initial=initial)\n\u001b[0m\u001b[1;32m   2077\u001b[0m \u001b[0;34m\u001b[0m\u001b[0m\n\u001b[1;32m   2078\u001b[0m \u001b[0;34m\u001b[0m\u001b[0m\n",
      "\u001b[0;32m~/deep-speaker-data/venv-speaker/lib/python3.7/site-packages/numpy/core/fromnumeric.py\u001b[0m in \u001b[0;36m_wrapreduction\u001b[0;34m(obj, ufunc, method, axis, dtype, out, **kwargs)\u001b[0m\n\u001b[1;32m     84\u001b[0m                 \u001b[0;32mreturn\u001b[0m \u001b[0mreduction\u001b[0m\u001b[0;34m(\u001b[0m\u001b[0maxis\u001b[0m\u001b[0;34m=\u001b[0m\u001b[0maxis\u001b[0m\u001b[0;34m,\u001b[0m \u001b[0mout\u001b[0m\u001b[0;34m=\u001b[0m\u001b[0mout\u001b[0m\u001b[0;34m,\u001b[0m \u001b[0;34m**\u001b[0m\u001b[0mpasskwargs\u001b[0m\u001b[0;34m)\u001b[0m\u001b[0;34m\u001b[0m\u001b[0;34m\u001b[0m\u001b[0m\n\u001b[1;32m     85\u001b[0m \u001b[0;34m\u001b[0m\u001b[0m\n\u001b[0;32m---> 86\u001b[0;31m     \u001b[0;32mreturn\u001b[0m \u001b[0mufunc\u001b[0m\u001b[0;34m.\u001b[0m\u001b[0mreduce\u001b[0m\u001b[0;34m(\u001b[0m\u001b[0mobj\u001b[0m\u001b[0;34m,\u001b[0m \u001b[0maxis\u001b[0m\u001b[0;34m,\u001b[0m \u001b[0mdtype\u001b[0m\u001b[0;34m,\u001b[0m \u001b[0mout\u001b[0m\u001b[0;34m,\u001b[0m \u001b[0;34m**\u001b[0m\u001b[0mpasskwargs\u001b[0m\u001b[0;34m)\u001b[0m\u001b[0;34m\u001b[0m\u001b[0;34m\u001b[0m\u001b[0m\n\u001b[0m\u001b[1;32m     87\u001b[0m \u001b[0;34m\u001b[0m\u001b[0m\n\u001b[1;32m     88\u001b[0m \u001b[0;34m\u001b[0m\u001b[0m\n",
      "\u001b[0;31mTypeError\u001b[0m: only integer scalar arrays can be converted to a scalar index"
     ]
    }
   ],
   "source": [
    "Shape kx_train:  (1760406, 390)\n",
    "Shape kx_train:  (1760406, 105)\n",
    "Shape kx_train:  (1530197, 390)\n",
    "Shape kx_train:  (1530197, 105)"
   ]
  },
  {
   "cell_type": "code",
   "execution_count": 22,
   "metadata": {},
   "outputs": [
    {
     "data": {
      "text/plain": [
       "'../outputs/model/reports'"
      ]
     },
     "execution_count": 22,
     "metadata": {},
     "output_type": "execute_result"
    }
   ],
   "source": [
    "reports_dir"
   ]
  },
  {
   "cell_type": "code",
   "execution_count": null,
   "metadata": {},
   "outputs": [],
   "source": []
  }
 ],
 "metadata": {
  "kernelspec": {
   "display_name": "Python 3",
   "language": "python",
   "name": "python3"
  },
  "language_info": {
   "codemirror_mode": {
    "name": "ipython",
    "version": 3
   },
   "file_extension": ".py",
   "mimetype": "text/x-python",
   "name": "python",
   "nbconvert_exporter": "python",
   "pygments_lexer": "ipython3",
   "version": "3.7.2"
  }
 },
 "nbformat": 4,
 "nbformat_minor": 2
}
