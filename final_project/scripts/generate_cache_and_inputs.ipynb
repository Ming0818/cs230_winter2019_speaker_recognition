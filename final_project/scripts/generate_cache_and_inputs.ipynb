{
 "cells": [
  {
   "cell_type": "code",
   "execution_count": 1,
   "metadata": {},
   "outputs": [],
   "source": [
    "import logging\n",
    "import os\n",
    "import shutil\n",
    "import time\n",
    "from argparse import ArgumentParser\n",
    "\n",
    "from audio_reader import AudioReader\n",
    "from constants import c\n",
    "from utils import InputsGenerator"
   ]
  },
  {
   "cell_type": "code",
   "execution_count": 31,
   "metadata": {},
   "outputs": [],
   "source": [
    "%load_ext autoreload\n",
    "%autoreload"
   ]
  },
  {
   "cell_type": "code",
   "execution_count": 2,
   "metadata": {},
   "outputs": [],
   "source": [
    "def arg_parse():\n",
    "    #Read arguments\n",
    "    arg_p = ArgumentParser()\n",
    "    arg_p.add_argument('--audio_dir', required=True)\n",
    "    arg_p.add_argument('--cache_output_dir', required=True)\n",
    "    arg_p.add_argument('--regenerate_full_cache', action='store_true')\n",
    "    arg_p.add_argument('--update_cache', action='store_true')\n",
    "    arg_p.add_argument('--generate_training_inputs', action='store_true')\n",
    "    arg_p.add_argument('--multi_threading', action='store_true')\n",
    "    arg_p.add_argument('--unseen_speakers')  # p225,p226 example.\n",
    "    arg_p.add_argument('--get_embeddings')  # p225 example.\n",
    "    return arg_p\n",
    "\n",
    "\n",
    "def regenerate_full_cache(audio_reader, args):\n",
    "    cache_output_dir = os.path.expanduser(args.cache_output_dir)\n",
    "    print('The directory containing the cache is {}.'.format(cache_output_dir))\n",
    "    print('Going to wipe out and regenerate the cache in 5 seconds. Ctrl+C to kill this script.')\n",
    "    time.sleep(5)\n",
    "    try:\n",
    "        shutil.rmtree(cache_output_dir)\n",
    "    except:\n",
    "        pass\n",
    "    os.makedirs(cache_output_dir)\n",
    "    audio_reader.build_cache()\n",
    "\n",
    "\n",
    "def generate_cache_from_training_inputs(audio_reader, args):\n",
    "    cache_dir = os.path.expanduser(args.cache_output_dir)\n",
    "    inputs_generator = InputsGenerator(cache_dir=cache_dir,\n",
    "                                       audio_reader=audio_reader,\n",
    "                                       max_count_per_class=1000,\n",
    "                                       speakers_sub_list=None,\n",
    "                                       multi_threading=args.multi_threading)\n",
    "    inputs_generator.start_generation()"
   ]
  },
  {
   "cell_type": "markdown",
   "metadata": {},
   "source": [
    "# Main()"
   ]
  },
  {
   "cell_type": "markdown",
   "metadata": {},
   "source": [
    "Parse arguments"
   ]
  },
  {
   "cell_type": "code",
   "execution_count": 9,
   "metadata": {},
   "outputs": [],
   "source": [
    "# Read arguments to use multi threading, define the output directory for the cache and audio directories\n",
    "# args = arg_parse().parse_args()\n"
   ]
  },
  {
   "cell_type": "markdown",
   "metadata": {},
   "source": [
    "Define working directories"
   ]
  },
  {
   "cell_type": "code",
   "execution_count": 10,
   "metadata": {},
   "outputs": [],
   "source": [
    "DS_DIR='/Users/j/deep-speaker-data'\n",
    "AUDIO_DIR=DS_DIR + '/VCTK-Corpus/'\n",
    "CACHE_DIR=DS_DIR + '/cache/'"
   ]
  },
  {
   "cell_type": "markdown",
   "metadata": {},
   "source": [
    "AUDIO_READER: Parameters"
   ]
  },
  {
   "cell_type": "code",
   "execution_count": 26,
   "metadata": {},
   "outputs": [],
   "source": [
    "config_sample_rate = 8000\n",
    "multi_threading = True"
   ]
  },
  {
   "cell_type": "code",
   "execution_count": 27,
   "metadata": {},
   "outputs": [],
   "source": [
    "# Create an audio reader that returns a cache (dictionary) and metadata (dictionary)\n",
    "audio_reader = AudioReader(input_audio_dir=AUDIO_DIR,\n",
    "                           output_cache_dir=CACHE_DIR,\n",
    "                           sample_rate=config_sample_rate,\n",
    "                           multi_threading=multi_threading)"
   ]
  },
  {
   "cell_type": "markdown",
   "metadata": {},
   "source": [
    "regenerate_full_cache(audio_reader, args)"
   ]
  },
  {
   "cell_type": "code",
   "execution_count": 28,
   "metadata": {},
   "outputs": [],
   "source": [
    "# Generate cache for the audio files. Caching usually involves sampling the WAV files at 8KHz and trimming the silences. \n",
    "# regenerate_full_cache(audio_reader, args)"
   ]
  },
  {
   "cell_type": "code",
   "execution_count": 35,
   "metadata": {},
   "outputs": [
    {
     "name": "stdout",
     "output_type": "stream",
     "text": [
      "The directory containing the cache is /Users/j/deep-speaker-data/cache/.\n",
      "Going to wipe out and regenerate the cache in 5 seconds. Ctrl+C to kill this script.\n"
     ]
    }
   ],
   "source": [
    "cache_output_dir = os.path.expanduser(CACHE_DIR)\n",
    "print('The directory containing the cache is {}.'.format(cache_output_dir))\n",
    "print('Going to wipe out and regenerate the cache in 5 seconds. Ctrl+C to kill this script.')\n",
    "time.sleep(5)\n",
    "try:\n",
    "    shutil.rmtree(cache_output_dir)\n",
    "except:\n",
    "    pass\n",
    "os.makedirs(cache_output_dir)"
   ]
  },
  {
   "cell_type": "code",
   "execution_count": 36,
   "metadata": {},
   "outputs": [],
   "source": [
    "audio_reader.build_cache()"
   ]
  },
  {
   "cell_type": "markdown",
   "metadata": {},
   "source": [
    "generate_cache_from_training_inputs(audio_reader, args):"
   ]
  },
  {
   "cell_type": "code",
   "execution_count": 37,
   "metadata": {},
   "outputs": [
    {
     "name": "stdout",
     "output_type": "stream",
     "text": [
      "/Users/j/deep-speaker-data/cache/\n"
     ]
    }
   ],
   "source": [
    "# Generate inputs used in the softmax training, MFCC windows randomly sampled from the audio cached files and put in a unified pickle file.\n",
    "\n",
    "cache_dir = os.path.expanduser(CACHE_DIR)\n",
    "\n",
    "print(cache_dir)"
   ]
  },
  {
   "cell_type": "code",
   "execution_count": 39,
   "metadata": {},
   "outputs": [],
   "source": [
    "inputs_generator = InputsGenerator(cache_dir=cache_dir,\n",
    "                                   audio_reader=audio_reader,\n",
    "                                   max_count_per_class=1000,\n",
    "                                   speakers_sub_list=None,\n",
    "                                   multi_threading=multi_threading)"
   ]
  },
  {
   "cell_type": "code",
   "execution_count": 40,
   "metadata": {},
   "outputs": [],
   "source": [
    "inputs_generator.start_generation()"
   ]
  },
  {
   "cell_type": "code",
   "execution_count": null,
   "metadata": {},
   "outputs": [],
   "source": []
  },
  {
   "cell_type": "code",
   "execution_count": null,
   "metadata": {},
   "outputs": [],
   "source": []
  }
 ],
 "metadata": {
  "kernelspec": {
   "display_name": "Python 3",
   "language": "python",
   "name": "python3"
  },
  "language_info": {
   "codemirror_mode": {
    "name": "ipython",
    "version": 3
   },
   "file_extension": ".py",
   "mimetype": "text/x-python",
   "name": "python",
   "nbconvert_exporter": "python",
   "pygments_lexer": "ipython3",
   "version": "3.7.2"
  }
 },
 "nbformat": 4,
 "nbformat_minor": 2
}
